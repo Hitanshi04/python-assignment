{
  "nbformat": 4,
  "nbformat_minor": 0,
  "metadata": {
    "colab": {
      "provenance": [],
      "authorship_tag": "ABX9TyNjTFB9I1iSm+nA7/YqjDbl",
      "include_colab_link": true
    },
    "kernelspec": {
      "name": "python3",
      "display_name": "Python 3"
    },
    "language_info": {
      "name": "python"
    }
  },
  "cells": [
    {
      "cell_type": "markdown",
      "metadata": {
        "id": "view-in-github",
        "colab_type": "text"
      },
      "source": [
        "<a href=\"https://colab.research.google.com/github/Hitanshi04/python-assignment/blob/main/Python_Assignment_1.ipynb\" target=\"_parent\"><img src=\"https://colab.research.google.com/assets/colab-badge.svg\" alt=\"Open In Colab\"/></a>"
      ]
    },
    {
      "cell_type": "code",
      "execution_count": 1,
      "metadata": {
        "colab": {
          "base_uri": "https://localhost:8080/"
        },
        "id": "oMjNKggRcell",
        "outputId": "d8fd5fd0-f113-4fd4-ebb8-c703cbb734d0"
      },
      "outputs": [
        {
          "output_type": "stream",
          "name": "stdout",
          "text": [
            "Merged String: apbqcr\n"
          ]
        }
      ],
      "source": [
        "def merge_strings(word1, word2):\n",
        "  merged = ''.join(a + b for a, b in zip(word1, word2))\n",
        "  return merged + word1[len(word2):] + word2[len(word1):]\n",
        "\n",
        "word1 = \"abc\"\n",
        "word2 = \"pqr\"\n",
        "result = merge_strings(word1, word2)\n",
        "print(\"Merged String:\",result)"
      ]
    },
    {
      "cell_type": "code",
      "source": [
        "def merge_strings(word1, word2):\n",
        "    merged = ''.join(a + b for a, b in zip(word1, word2))\n",
        "    return merged + word1[len(word2):] + word2[len(word1):]\n",
        "\n",
        "word1 = \"ab\"\n",
        "word2 = \"pqrs\"\n",
        "\n",
        "result = merge_strings(word1, word2)\n",
        "print(result)"
      ],
      "metadata": {
        "colab": {
          "base_uri": "https://localhost:8080/"
        },
        "id": "pdLMaEm9uU3f",
        "outputId": "fd3b85e2-9b7c-47be-e481-ceb3e5b61e2c"
      },
      "execution_count": 2,
      "outputs": [
        {
          "output_type": "stream",
          "name": "stdout",
          "text": [
            "apbqrs\n"
          ]
        }
      ]
    },
    {
      "cell_type": "code",
      "source": [
        "def merge_strings(word1, word2):\n",
        "    merged = ''.join(a + b for a, b in zip(word1, word2)) + word1[len(word2):] + word2[len(word1):]\n",
        "    return merged\n",
        "\n",
        "word1 = \"abcd\"\n",
        "word2 = \"pq\"\n",
        "result = merge_strings(word1, word2)\n",
        "print(result)"
      ],
      "metadata": {
        "colab": {
          "base_uri": "https://localhost:8080/"
        },
        "id": "Skx24kIN5jAa",
        "outputId": "ae411d82-d3c8-4534-8d98-2c9e7e04663f"
      },
      "execution_count": 3,
      "outputs": [
        {
          "output_type": "stream",
          "name": "stdout",
          "text": [
            "apbqcd\n"
          ]
        }
      ]
    },
    {
      "cell_type": "code",
      "source": [
        "import math\n",
        "\n",
        "def gcd_of_strings(str1, str2):\n",
        "    if str1 + str2 != str2 + str1:\n",
        "        return \"\"\n",
        "    gcd_length = math.gcd(len(str1), len(str2))\n",
        "    return str1[:gcd_length]\n",
        "str1 = \"ABCABC\"\n",
        "str2 = \"ABC\"\n",
        "\n",
        "print(gcd_of_strings(str1, str2))"
      ],
      "metadata": {
        "colab": {
          "base_uri": "https://localhost:8080/"
        },
        "id": "kKxg93i8c_G7",
        "outputId": "68382c42-f836-46c6-96ef-593543fda0cc"
      },
      "execution_count": 4,
      "outputs": [
        {
          "output_type": "stream",
          "name": "stdout",
          "text": [
            "ABC\n"
          ]
        }
      ]
    },
    {
      "cell_type": "code",
      "source": [
        "import math\n",
        "\n",
        "def gcd_of_strings(str1, str2):\n",
        "    if str1 + str2 != str2 + str1:\n",
        "        return \"\"\n",
        "    gcd_length = math.gcd(len(str1), len(str2))\n",
        "    return str1[:gcd_length]\n",
        "str1 = \"ABABAB\"\n",
        "str2 = \"ABAB\"\n",
        "\n",
        "print(gcd_of_strings(str1, str2))"
      ],
      "metadata": {
        "colab": {
          "base_uri": "https://localhost:8080/"
        },
        "id": "59Qmk3VldOVp",
        "outputId": "9d9a09bd-6100-407e-8133-ef0424745233"
      },
      "execution_count": 5,
      "outputs": [
        {
          "output_type": "stream",
          "name": "stdout",
          "text": [
            "AB\n"
          ]
        }
      ]
    },
    {
      "cell_type": "code",
      "source": [
        "import math\n",
        "\n",
        "def gcd_of_strings(str1, str2):\n",
        "  if str1 + str2 != str2 + str1:\n",
        "    return \"\"\n",
        "  gcd_length = math.gcd(len(str1), len(str2))\n",
        "  return str1[:gcd_length]\n",
        "str1 = \"LEET\"\n",
        "str2 = \"CODE\"\n",
        "\n",
        "print(\"__\",gcd_of_strings(str1, str2))"
      ],
      "metadata": {
        "colab": {
          "base_uri": "https://localhost:8080/"
        },
        "id": "MGJWByPldRKs",
        "outputId": "d430e1e6-63a6-4062-873b-e5667d6162ac"
      },
      "execution_count": 7,
      "outputs": [
        {
          "output_type": "stream",
          "name": "stdout",
          "text": [
            "__ \n"
          ]
        }
      ]
    }
  ]
}